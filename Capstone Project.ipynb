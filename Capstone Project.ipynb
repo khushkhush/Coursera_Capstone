{
 "cells": [],
 "metadata": {},
 "nbformat": 4,
 "nbformat_minor": 4
}

<h3> This notebook will be used for the Capstone Project </h3>

Import pandas as pd
Import Numpy as np

print("Hello Capstone Project Course")
