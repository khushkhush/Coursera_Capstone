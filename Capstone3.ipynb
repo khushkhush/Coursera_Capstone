{
 "cells": [
  {
   "cell_type": "markdown",
   "metadata": {},
   "source": [
    "<h1> Coursera Data Science Project- Car Crash Severity Prediction </h1>"
   ]
  },
  {
   "cell_type": "markdown",
   "metadata": {},
   "source": [
    "<h2>Introduction: The Problem:</h2>"
   ]
  },
  {
   "cell_type": "markdown",
   "metadata": {},
   "source": [
    "Car accidents are a huge problem and have been since roughly the beginning of the mass deployment of cars. There are factors which are related to the person at the wheel, such as driving under influence, speeding, stunting or other risky behavior. however then there are also other factors, such as whether conditions, light conditions or even timing (an example is driving at a time where there is a higher percentage of people driving under influence).\n",
    "\n",
    "Road accidents are social problems- especially devere car accidents which can ruin absolutely ruin a person, their family and as I see it, a critical piece of society. However, severe accidents can probably be reduced significantly, if we were to understand the conditions which make crashing likely more severe. This can help reduce the severity of crashes when they occur, by understanding what conditions make a crash more severe, for example certain weather and road conditions, etc. This information can be given to driving schools, government and private agencies and institutions, which can help develop methods to put what is found into practicality and reduce the rate of severe accidents- so these are key stakeholders in this project. Also another key stakeholder is simply anyone who wants to be safer on the roads and reduce the risk for severe accidents.\n",
    "\n",
    "So what exactly is the problem? The problem is: there are a lot of crashes in the Seattle area- actually to be more specific, in Washington state, there were over 45,000 car crashes in 2019, and over 200 were fatal. That is a lot!\n",
    "Now the question to ask is: how can we most effectively reduce the number of severe crashes? I believe it is to understand how these crashes took place and their conditions, so we can help people avoid being in conditions which have a higher likelihood to end in a severe car crash. This is all aimed at drivers in the Seattle area, who are trying to reduce the risk of ending up in a severe car accident and agencies which can help make driving in Seattle safer- this may include a wide range of people, including engineers, city planners, schools, public transport, etc, who could leverage the machile learning model produced in thsi project to develop safer streets. \n",
    "\n",
    "To sum it all up, this project is aimed at reducing the amount of severe car crashes, by building a model which will predict whether a car crash will be severe or not given certain conditions and we will also analyze data for additional understanding.\n"
   ]
  },
  {
   "cell_type": "code",
   "execution_count": null,
   "metadata": {},
   "outputs": [],
   "source": []
  },
  {
   "cell_type": "code",
   "execution_count": null,
   "metadata": {},
   "outputs": [],
   "source": []
  },
  {
   "cell_type": "markdown",
   "metadata": {},
   "source": [
    "<h2> The Data </h2>"
   ]
  },
  {
   "cell_type": "code",
   "execution_count": 209,
   "metadata": {},
   "outputs": [],
   "source": [
    "import pandas as pd\n",
    "import numpy as np\n",
    "import matplotlib.pyplot as plt"
   ]
  },
  {
   "cell_type": "markdown",
   "metadata": {},
   "source": [
    "The data I am using is from the Seattle Police Department and consist of over 194,000 records from 2004 to the present. The data contains 37 columns/attributes. A lot of these attributes are not of concern to us for this project, however there are a few key attributes which have a very strong significance.\n",
    "The import:\n"
   ]
  },
  {
   "cell_type": "code",
   "execution_count": 210,
   "metadata": {},
   "outputs": [
    {
     "name": "stderr",
     "output_type": "stream",
     "text": [
      "/home/jupyterlab/conda/envs/python/lib/python3.6/site-packages/IPython/core/interactiveshell.py:3072: DtypeWarning: Columns (33) have mixed types.Specify dtype option on import or set low_memory=False.\n",
      "  interactivity=interactivity, compiler=compiler, result=result)\n"
     ]
    }
   ],
   "source": [
    "df= pd.read_csv('https://s3.us.cloud-object-storage.appdomain.cloud/cf-courses-data/CognitiveClass/DP0701EN/version-2/Data-Collisions.csv')"
   ]
  },
  {
   "cell_type": "markdown",
   "metadata": {},
   "source": [
    "All the atributes/columns and their data types are shown below, however we will be eliminating columns which are of no use to us."
   ]
  },
  {
   "cell_type": "code",
   "execution_count": 211,
   "metadata": {},
   "outputs": [
    {
     "data": {
      "text/plain": [
       "SEVERITYCODE        int64\n",
       "X                 float64\n",
       "Y                 float64\n",
       "OBJECTID            int64\n",
       "INCKEY              int64\n",
       "COLDETKEY           int64\n",
       "REPORTNO           object\n",
       "STATUS             object\n",
       "ADDRTYPE           object\n",
       "INTKEY            float64\n",
       "LOCATION           object\n",
       "EXCEPTRSNCODE      object\n",
       "EXCEPTRSNDESC      object\n",
       "SEVERITYCODE.1      int64\n",
       "SEVERITYDESC       object\n",
       "COLLISIONTYPE      object\n",
       "PERSONCOUNT         int64\n",
       "PEDCOUNT            int64\n",
       "PEDCYLCOUNT         int64\n",
       "VEHCOUNT            int64\n",
       "INCDATE            object\n",
       "INCDTTM            object\n",
       "JUNCTIONTYPE       object\n",
       "SDOT_COLCODE        int64\n",
       "SDOT_COLDESC       object\n",
       "INATTENTIONIND     object\n",
       "UNDERINFL          object\n",
       "WEATHER            object\n",
       "ROADCOND           object\n",
       "LIGHTCOND          object\n",
       "PEDROWNOTGRNT      object\n",
       "SDOTCOLNUM        float64\n",
       "SPEEDING           object\n",
       "ST_COLCODE         object\n",
       "ST_COLDESC         object\n",
       "SEGLANEKEY          int64\n",
       "CROSSWALKKEY        int64\n",
       "HITPARKEDCAR       object\n",
       "dtype: object"
      ]
     },
     "execution_count": 211,
     "metadata": {},
     "output_type": "execute_result"
    }
   ],
   "source": [
    "df.dtypes"
   ]
  },
  {
   "cell_type": "code",
   "execution_count": 212,
   "metadata": {},
   "outputs": [],
   "source": [
    "df.drop(labels= ['SEVERITYCODE', 'X','Y','INCKEY','COLDETKEY','REPORTNO','STATUS','INTKEY','LOCATION','EXCEPTRSNCODE','EXCEPTRSNDESC','SEVERITYDESC','COLLISIONTYPE','PERSONCOUNT','PEDCOUNT','PEDCYLCOUNT','INCDATE','JUNCTIONTYPE','SDOT_COLCODE','SDOT_COLDESC','PEDROWNOTGRNT','SDOTCOLNUM','ST_COLDESC','SEGLANEKEY','CROSSWALKKEY', 'INCDTTM'],axis=1, inplace=True)"
   ]
  },
  {
   "cell_type": "markdown",
   "metadata": {},
   "source": [
    "Below are all the atributes which have value to us:"
   ]
  },
  {
   "cell_type": "code",
   "execution_count": 213,
   "metadata": {},
   "outputs": [
    {
     "data": {
      "text/plain": [
       "OBJECTID           int64\n",
       "ADDRTYPE          object\n",
       "SEVERITYCODE.1     int64\n",
       "VEHCOUNT           int64\n",
       "INATTENTIONIND    object\n",
       "UNDERINFL         object\n",
       "WEATHER           object\n",
       "ROADCOND          object\n",
       "LIGHTCOND         object\n",
       "SPEEDING          object\n",
       "ST_COLCODE        object\n",
       "HITPARKEDCAR      object\n",
       "dtype: object"
      ]
     },
     "execution_count": 213,
     "metadata": {},
     "output_type": "execute_result"
    }
   ],
   "source": [
    "df.dtypes"
   ]
  },
  {
   "cell_type": "markdown",
   "metadata": {},
   "source": [
    "Now we will just do some data cleaning and preparation:"
   ]
  },
  {
   "cell_type": "code",
   "execution_count": 214,
   "metadata": {},
   "outputs": [],
   "source": [
    "df.set_index(keys='OBJECTID', inplace=True)"
   ]
  },
  {
   "cell_type": "code",
   "execution_count": 215,
   "metadata": {},
   "outputs": [],
   "source": [
    "df.rename(columns={'SEVERITYCODE.1':'SEVERITYCODE'}, inplace=True)"
   ]
  },
  {
   "cell_type": "code",
   "execution_count": 216,
   "metadata": {},
   "outputs": [
    {
     "data": {
      "text/html": [
       "<div>\n",
       "<style scoped>\n",
       "    .dataframe tbody tr th:only-of-type {\n",
       "        vertical-align: middle;\n",
       "    }\n",
       "\n",
       "    .dataframe tbody tr th {\n",
       "        vertical-align: top;\n",
       "    }\n",
       "\n",
       "    .dataframe thead th {\n",
       "        text-align: right;\n",
       "    }\n",
       "</style>\n",
       "<table border=\"1\" class=\"dataframe\">\n",
       "  <thead>\n",
       "    <tr style=\"text-align: right;\">\n",
       "      <th></th>\n",
       "      <th>ADDRTYPE</th>\n",
       "      <th>SEVERITYCODE</th>\n",
       "      <th>VEHCOUNT</th>\n",
       "      <th>INATTENTIONIND</th>\n",
       "      <th>UNDERINFL</th>\n",
       "      <th>WEATHER</th>\n",
       "      <th>ROADCOND</th>\n",
       "      <th>LIGHTCOND</th>\n",
       "      <th>SPEEDING</th>\n",
       "      <th>ST_COLCODE</th>\n",
       "      <th>HITPARKEDCAR</th>\n",
       "    </tr>\n",
       "    <tr>\n",
       "      <th>OBJECTID</th>\n",
       "      <th></th>\n",
       "      <th></th>\n",
       "      <th></th>\n",
       "      <th></th>\n",
       "      <th></th>\n",
       "      <th></th>\n",
       "      <th></th>\n",
       "      <th></th>\n",
       "      <th></th>\n",
       "      <th></th>\n",
       "      <th></th>\n",
       "    </tr>\n",
       "  </thead>\n",
       "  <tbody>\n",
       "    <tr>\n",
       "      <th>1</th>\n",
       "      <td>Intersection</td>\n",
       "      <td>2</td>\n",
       "      <td>2</td>\n",
       "      <td>NaN</td>\n",
       "      <td>N</td>\n",
       "      <td>Overcast</td>\n",
       "      <td>Wet</td>\n",
       "      <td>Daylight</td>\n",
       "      <td>NaN</td>\n",
       "      <td>10</td>\n",
       "      <td>N</td>\n",
       "    </tr>\n",
       "    <tr>\n",
       "      <th>2</th>\n",
       "      <td>Block</td>\n",
       "      <td>1</td>\n",
       "      <td>2</td>\n",
       "      <td>NaN</td>\n",
       "      <td>0</td>\n",
       "      <td>Raining</td>\n",
       "      <td>Wet</td>\n",
       "      <td>Dark - Street Lights On</td>\n",
       "      <td>NaN</td>\n",
       "      <td>11</td>\n",
       "      <td>N</td>\n",
       "    </tr>\n",
       "    <tr>\n",
       "      <th>3</th>\n",
       "      <td>Block</td>\n",
       "      <td>1</td>\n",
       "      <td>3</td>\n",
       "      <td>NaN</td>\n",
       "      <td>0</td>\n",
       "      <td>Overcast</td>\n",
       "      <td>Dry</td>\n",
       "      <td>Daylight</td>\n",
       "      <td>NaN</td>\n",
       "      <td>32</td>\n",
       "      <td>N</td>\n",
       "    </tr>\n",
       "    <tr>\n",
       "      <th>4</th>\n",
       "      <td>Block</td>\n",
       "      <td>1</td>\n",
       "      <td>3</td>\n",
       "      <td>NaN</td>\n",
       "      <td>N</td>\n",
       "      <td>Clear</td>\n",
       "      <td>Dry</td>\n",
       "      <td>Daylight</td>\n",
       "      <td>NaN</td>\n",
       "      <td>23</td>\n",
       "      <td>N</td>\n",
       "    </tr>\n",
       "    <tr>\n",
       "      <th>5</th>\n",
       "      <td>Intersection</td>\n",
       "      <td>2</td>\n",
       "      <td>2</td>\n",
       "      <td>NaN</td>\n",
       "      <td>0</td>\n",
       "      <td>Raining</td>\n",
       "      <td>Wet</td>\n",
       "      <td>Daylight</td>\n",
       "      <td>NaN</td>\n",
       "      <td>10</td>\n",
       "      <td>N</td>\n",
       "    </tr>\n",
       "  </tbody>\n",
       "</table>\n",
       "</div>"
      ],
      "text/plain": [
       "              ADDRTYPE  SEVERITYCODE  VEHCOUNT INATTENTIONIND UNDERINFL  \\\n",
       "OBJECTID                                                                  \n",
       "1         Intersection             2         2            NaN         N   \n",
       "2                Block             1         2            NaN         0   \n",
       "3                Block             1         3            NaN         0   \n",
       "4                Block             1         3            NaN         N   \n",
       "5         Intersection             2         2            NaN         0   \n",
       "\n",
       "           WEATHER ROADCOND                LIGHTCOND SPEEDING ST_COLCODE  \\\n",
       "OBJECTID                                                                   \n",
       "1         Overcast      Wet                 Daylight      NaN         10   \n",
       "2          Raining      Wet  Dark - Street Lights On      NaN         11   \n",
       "3         Overcast      Dry                 Daylight      NaN         32   \n",
       "4            Clear      Dry                 Daylight      NaN         23   \n",
       "5          Raining      Wet                 Daylight      NaN         10   \n",
       "\n",
       "         HITPARKEDCAR  \n",
       "OBJECTID               \n",
       "1                   N  \n",
       "2                   N  \n",
       "3                   N  \n",
       "4                   N  \n",
       "5                   N  "
      ]
     },
     "execution_count": 216,
     "metadata": {},
     "output_type": "execute_result"
    }
   ],
   "source": [
    "df.head()"
   ]
  },
  {
   "cell_type": "code",
   "execution_count": 217,
   "metadata": {},
   "outputs": [
    {
     "data": {
      "text/plain": [
       "ADDRTYPE          object\n",
       "SEVERITYCODE       int64\n",
       "VEHCOUNT           int64\n",
       "INATTENTIONIND    object\n",
       "UNDERINFL         object\n",
       "WEATHER           object\n",
       "ROADCOND          object\n",
       "LIGHTCOND         object\n",
       "SPEEDING          object\n",
       "ST_COLCODE        object\n",
       "HITPARKEDCAR      object\n",
       "dtype: object"
      ]
     },
     "execution_count": 217,
     "metadata": {},
     "output_type": "execute_result"
    }
   ],
   "source": [
    "df.dtypes"
   ]
  },
  {
   "cell_type": "code",
   "execution_count": 218,
   "metadata": {},
   "outputs": [],
   "source": [
    "df['INATTENTIONIND'].fillna(value='0', inplace=True)\n",
    "df['UNDERINFL'].fillna(value='0', inplace=True)\n",
    "df['SPEEDING'].fillna(value='0', inplace=True)\n",
    "df['HITPARKEDCAR'].fillna(value='0', inplace=True)\n",
    "df['ST_COLCODE'].fillna(value='85', inplace=True)"
   ]
  },
  {
   "cell_type": "code",
   "execution_count": 219,
   "metadata": {},
   "outputs": [],
   "source": [
    "df['INATTENTIONIND'].replace(to_replace='N', value='0', inplace=True)\n",
    "df['INATTENTIONIND'].replace(to_replace='n', value='0', inplace=True)\n",
    "df['INATTENTIONIND'].replace(to_replace='Y', value='1', inplace=True)\n",
    "df['INATTENTIONIND'].replace(to_replace='y', value='1', inplace=True)"
   ]
  },
  {
   "cell_type": "code",
   "execution_count": 220,
   "metadata": {},
   "outputs": [],
   "source": [
    "df['UNDERINFL'].replace(to_replace='N', value='0', inplace=True)\n",
    "df['UNDERINFL'].replace(to_replace='n', value='0', inplace=True)\n",
    "df['UNDERINFL'].replace(to_replace='Y', value='1', inplace=True)\n",
    "df['UNDERINFL'].replace(to_replace='y', value='1', inplace=True)"
   ]
  },
  {
   "cell_type": "code",
   "execution_count": 221,
   "metadata": {},
   "outputs": [],
   "source": [
    "df['SPEEDING'].replace(to_replace='N', value='0', inplace=True)\n",
    "df['SPEEDING'].replace(to_replace='n', value='0', inplace=True)\n",
    "df['SPEEDING'].replace(to_replace='Y', value='1', inplace=True)\n",
    "df['SPEEDING'].replace(to_replace='y', value='1', inplace=True)"
   ]
  },
  {
   "cell_type": "code",
   "execution_count": 222,
   "metadata": {},
   "outputs": [],
   "source": [
    "df['HITPARKEDCAR'].replace(to_replace='N', value='0', inplace=True)\n",
    "df['HITPARKEDCAR'].replace(to_replace='n', value='0', inplace=True)\n",
    "df['HITPARKEDCAR'].replace(to_replace='Y', value='1', inplace=True)\n",
    "df['HITPARKEDCAR'].replace(to_replace='y', value='1', inplace=True)"
   ]
  },
  {
   "cell_type": "code",
   "execution_count": 223,
   "metadata": {},
   "outputs": [
    {
     "data": {
      "text/plain": [
       "0    164868\n",
       "1     29805\n",
       "Name: INATTENTIONIND, dtype: int64"
      ]
     },
     "execution_count": 223,
     "metadata": {},
     "output_type": "execute_result"
    }
   ],
   "source": [
    "df['INATTENTIONIND'].value_counts()"
   ]
  },
  {
   "cell_type": "code",
   "execution_count": 224,
   "metadata": {},
   "outputs": [
    {
     "data": {
      "text/plain": [
       "0    185552\n",
       "1      9121\n",
       "Name: UNDERINFL, dtype: int64"
      ]
     },
     "execution_count": 224,
     "metadata": {},
     "output_type": "execute_result"
    }
   ],
   "source": [
    "df['UNDERINFL'].value_counts()"
   ]
  },
  {
   "cell_type": "code",
   "execution_count": 225,
   "metadata": {},
   "outputs": [
    {
     "data": {
      "text/plain": [
       "0    185340\n",
       "1      9333\n",
       "Name: SPEEDING, dtype: int64"
      ]
     },
     "execution_count": 225,
     "metadata": {},
     "output_type": "execute_result"
    }
   ],
   "source": [
    "df['SPEEDING'].value_counts()"
   ]
  },
  {
   "cell_type": "code",
   "execution_count": 226,
   "metadata": {},
   "outputs": [
    {
     "data": {
      "text/plain": [
       "0    187457\n",
       "1      7216\n",
       "Name: HITPARKEDCAR, dtype: int64"
      ]
     },
     "execution_count": 226,
     "metadata": {},
     "output_type": "execute_result"
    }
   ],
   "source": [
    "df['HITPARKEDCAR'].value_counts()"
   ]
  },
  {
   "cell_type": "code",
   "execution_count": 227,
   "metadata": {},
   "outputs": [],
   "source": [
    "df['SEVERITYCODE'].fillna(value='0', inplace=True)"
   ]
  },
  {
   "cell_type": "code",
   "execution_count": 228,
   "metadata": {},
   "outputs": [
    {
     "data": {
      "text/plain": [
       "1    136485\n",
       "2     58188\n",
       "Name: SEVERITYCODE, dtype: int64"
      ]
     },
     "execution_count": 228,
     "metadata": {},
     "output_type": "execute_result"
    }
   ],
   "source": [
    "df['SEVERITYCODE'].value_counts()"
   ]
  },
  {
   "cell_type": "code",
   "execution_count": 229,
   "metadata": {},
   "outputs": [
    {
     "data": {
      "text/plain": [
       "2     147650\n",
       "1      25748\n",
       "3      13010\n",
       "0       5085\n",
       "4       2426\n",
       "5        529\n",
       "6        146\n",
       "7         46\n",
       "8         15\n",
       "9          9\n",
       "11         6\n",
       "10         2\n",
       "12         1\n",
       "Name: VEHCOUNT, dtype: int64"
      ]
     },
     "execution_count": 229,
     "metadata": {},
     "output_type": "execute_result"
    }
   ],
   "source": [
    "df['VEHCOUNT'].value_counts()"
   ]
  },
  {
   "cell_type": "markdown",
   "metadata": {},
   "source": [
    "<h2> Data Analysis/visualization: </h2>"
   ]
  },
  {
   "cell_type": "markdown",
   "metadata": {},
   "source": [
    "<h3> Lets visulize each element with regards to volume of accidents and severity of accidents to get a better understanding of what is going on behind the numbers: </h3>"
   ]
  },
  {
   "cell_type": "code",
   "execution_count": 230,
   "metadata": {},
   "outputs": [
    {
     "data": {
      "text/plain": [
       "ADDRTYPE          object\n",
       "SEVERITYCODE       int64\n",
       "VEHCOUNT           int64\n",
       "INATTENTIONIND    object\n",
       "UNDERINFL         object\n",
       "WEATHER           object\n",
       "ROADCOND          object\n",
       "LIGHTCOND         object\n",
       "SPEEDING          object\n",
       "ST_COLCODE        object\n",
       "HITPARKEDCAR      object\n",
       "dtype: object"
      ]
     },
     "execution_count": 230,
     "metadata": {},
     "output_type": "execute_result"
    }
   ],
   "source": [
    "df.dtypes "
   ]
  },
  {
   "cell_type": "code",
   "execution_count": 231,
   "metadata": {},
   "outputs": [],
   "source": [
    "sev1= df[df['SEVERITYCODE']== 1]\n",
    "sev2 = df[df['SEVERITYCODE']==2]"
   ]
  },
  {
   "cell_type": "code",
   "execution_count": 232,
   "metadata": {},
   "outputs": [
    {
     "data": {
      "text/plain": [
       "Block           96830\n",
       "Intersection    37251\n",
       "Alley             669\n",
       "Name: ADDRTYPE, dtype: int64"
      ]
     },
     "execution_count": 232,
     "metadata": {},
     "output_type": "execute_result"
    }
   ],
   "source": [
    "ADDTYPE_VS_SEVERITY1 = sev1['ADDRTYPE'].value_counts()\n",
    "ADDTYPE_VS_SEVERITY1"
   ]
  },
  {
   "cell_type": "code",
   "execution_count": 233,
   "metadata": {},
   "outputs": [],
   "source": [
    "ADDTYPE_VS_SEVERITY2 = sev2['ADDRTYPE'].value_counts()"
   ]
  },
  {
   "cell_type": "code",
   "execution_count": 234,
   "metadata": {},
   "outputs": [
    {
     "data": {
      "text/plain": [
       "<matplotlib.legend.Legend at 0x7f8b6231fb70>"
      ]
     },
     "execution_count": 234,
     "metadata": {},
     "output_type": "execute_result"
    },
    {
     "data": {
      "image/png": "[encoded data removed]",
      "text/plain": [
       "<Figure size 432x288 with 1 Axes>"
      ]
     },
     "metadata": {
      "needs_background": "light"
     },
     "output_type": "display_data"
    }
   ],
   "source": [
    "ind = np.arange(len(ADDTYPE_VS_SEVERITY1))  # the x locations for the groups\n",
    "width = 0.35  # the width of the bars\n",
    "\n",
    "fig, ax = plt.subplots()\n",
    "rects1 = ax.bar(ind - width/2, ADDTYPE_VS_SEVERITY1, width,\n",
    "                color='SkyBlue', label='SEVERITY=1')\n",
    "rects2 = ax.bar(ind + width/2, ADDTYPE_VS_SEVERITY2, width,\n",
    "                color='IndianRed', label='SEVERITY=2')\n",
    "\n",
    "\n",
    "ax.set_ylabel('ACCIDENT VOLUME')\n",
    "ax.set_title('ACCIDENT VOLUME AT EACH ADDRESS TYPE FOR SEVERITY=1 AND 2')\n",
    "ax.set_xticks(ind)\n",
    "ax.set_xticklabels(('BLOCK', 'INTERSECTION', 'ALLEY'))\n",
    "ax.legend()\n"
   ]
  },
  {
   "cell_type": "markdown",
   "metadata": {},
   "source": [
    "<h3> As you can see intersections collisions produce the highest proportion of severe crashes! </h3>"
   ]
  },
  {
   "cell_type": "code",
   "execution_count": 235,
   "metadata": {},
   "outputs": [
    {
     "data": {
      "text/plain": [
       "0    117077\n",
       "1     19408\n",
       "Name: INATTENTIONIND, dtype: int64"
      ]
     },
     "execution_count": 235,
     "metadata": {},
     "output_type": "execute_result"
    }
   ],
   "source": [
    "INATTENTION_VS_SEVERITY1 = sev1['INATTENTIONIND'].value_counts()\n",
    "INATTENTION_VS_SEVERITY2 = sev2['INATTENTIONIND'].value_counts()\n",
    "INATTENTION_VS_SEVERITY1"
   ]
  },
  {
   "cell_type": "code",
   "execution_count": 236,
   "metadata": {},
   "outputs": [
    {
     "data": {
      "text/plain": [
       "0    47791\n",
       "1    10397\n",
       "Name: INATTENTIONIND, dtype: int64"
      ]
     },
     "execution_count": 236,
     "metadata": {},
     "output_type": "execute_result"
    }
   ],
   "source": [
    "INATTENTION_VS_SEVERITY2"
   ]
  },
  {
   "cell_type": "code",
   "execution_count": 237,
   "metadata": {},
   "outputs": [
    {
     "data": {
      "text/plain": [
       "<matplotlib.legend.Legend at 0x7f8b600be240>"
      ]
     },
     "execution_count": 237,
     "metadata": {},
     "output_type": "execute_result"
    },
    {
     "data": {
      "image/png": "[encoded data removed]",
      "text/plain": [
       "<Figure size 432x288 with 1 Axes>"
      ]
     },
     "metadata": {
      "needs_background": "light"
     },
     "output_type": "display_data"
    }
   ],
   "source": [
    "ind = np.arange(len(INATTENTION_VS_SEVERITY1))  # the x locations for the groups\n",
    "width = 0.35  # the width of the bars\n",
    "\n",
    "fig, ax = plt.subplots()\n",
    "rects1 = ax.bar(ind - width/2, INATTENTION_VS_SEVERITY1, width,\n",
    "                color='SkyBlue', label='SEVERITY=1')\n",
    "rects2 = ax.bar(ind + width/2, INATTENTION_VS_SEVERITY2, width,\n",
    "                color='IndianRed', label='SEVERITY=2')\n",
    "\n",
    "\n",
    "ax.set_ylabel('ACCIDENT VOLUME')\n",
    "ax.set_title('ACCIDENT VOLUME WITH AND WITHOUT ATTENTION BEING PAID FOR SEVERITY=1 AND 2')\n",
    "ax.set_xticks(ind)\n",
    "ax.set_xticklabels(('ATTENTION PAID', 'ATTENTION NOT PAID'))\n",
    "ax.legend()"
   ]
  },
  {
   "cell_type": "markdown",
   "metadata": {},
   "source": [
    "<h3> Can't really tell if attention being paid will increase or decrese the severity. Lets do some further analysis:</h3>"
   ]
  },
  {
   "cell_type": "code",
   "execution_count": 238,
   "metadata": {},
   "outputs": [
    {
     "data": {
      "text/plain": [
       "0.40820144007789744"
      ]
     },
     "execution_count": 238,
     "metadata": {},
     "output_type": "execute_result"
    }
   ],
   "source": [
    "INATTENTION_VS_SEVERITY2[0]/INATTENTION_VS_SEVERITY1[0]"
   ]
  },
  {
   "cell_type": "code",
   "execution_count": 239,
   "metadata": {},
   "outputs": [
    {
     "data": {
      "text/plain": [
       "0.53570692497939"
      ]
     },
     "execution_count": 239,
     "metadata": {},
     "output_type": "execute_result"
    }
   ],
   "source": [
    "INATTENTION_VS_SEVERITY2[1]/INATTENTION_VS_SEVERITY1[1]"
   ]
  },
  {
   "cell_type": "markdown",
   "metadata": {},
   "source": [
    "<h3> Now we can see that there is a 10% increase in the probability of having a severe accident if the accident takes place when the driver isn't paying attention. </h3>"
   ]
  },
  {
   "cell_type": "code",
   "execution_count": 240,
   "metadata": {},
   "outputs": [
    {
     "data": {
      "text/plain": [
       "0    130926\n",
       "1      5559\n",
       "Name: UNDERINFL, dtype: int64"
      ]
     },
     "execution_count": 240,
     "metadata": {},
     "output_type": "execute_result"
    }
   ],
   "source": [
    "UNDERINFL_VS_SEVERITY1 = sev1['UNDERINFL'].value_counts()\n",
    "UNDERINFL_VS_SEVERITY2 = sev2['UNDERINFL'].value_counts()\n",
    "UNDERINFL_VS_SEVERITY1"
   ]
  },
  {
   "cell_type": "code",
   "execution_count": 241,
   "metadata": {},
   "outputs": [
    {
     "data": {
      "text/plain": [
       "0    54626\n",
       "1     3562\n",
       "Name: UNDERINFL, dtype: int64"
      ]
     },
     "execution_count": 241,
     "metadata": {},
     "output_type": "execute_result"
    }
   ],
   "source": [
    "UNDERINFL_VS_SEVERITY2"
   ]
  },
  {
   "cell_type": "code",
   "execution_count": 242,
   "metadata": {},
   "outputs": [
    {
     "data": {
      "text/plain": [
       "<matplotlib.legend.Legend at 0x7f8b2c59cac8>"
      ]
     },
     "execution_count": 242,
     "metadata": {},
     "output_type": "execute_result"
    },
    {
     "data": {
      "image/png": "[encoded data removed]",
      "text/plain": [
       "<Figure size 432x288 with 1 Axes>"
      ]
     },
     "metadata": {
      "needs_background": "light"
     },
     "output_type": "display_data"
    }
   ],
   "source": [
    "ind = np.arange(len(UNDERINFL_VS_SEVERITY1))  # the x locations for the groups\n",
    "width = 0.35  # the width of the bars\n",
    "\n",
    "fig, ax = plt.subplots()\n",
    "rects1 = ax.bar(ind - width/2, UNDERINFL_VS_SEVERITY1, width,\n",
    "                color='SkyBlue', label='SEVERITY=1')\n",
    "rects2 = ax.bar(ind + width/2, UNDERINFL_VS_SEVERITY2, width,\n",
    "                color='IndianRed', label='SEVERITY=2')\n",
    "\n",
    "\n",
    "ax.set_ylabel('ACCIDENT VOLUME')\n",
    "ax.set_title('ACCIDENT VOLUME WITH UNDERINFL VS SOBER FOR SEVERITY=1 AND 2')\n",
    "ax.set_xticks(ind)\n",
    "ax.set_xticklabels(('SOBER', 'UNDERINFL'))\n",
    "ax.legend()"
   ]
  },
  {
   "cell_type": "markdown",
   "metadata": {},
   "source": [
    "<h3> It is clear that driving under the influence will significantly increase the probability of having a severe crash if a crash occurs </h3>"
   ]
  },
  {
   "cell_type": "code",
   "execution_count": 243,
   "metadata": {},
   "outputs": [
    {
     "data": {
      "text/plain": [
       "0.4172280524876648"
      ]
     },
     "execution_count": 243,
     "metadata": {},
     "output_type": "execute_result"
    }
   ],
   "source": [
    "UNDERINFL_VS_SEVERITY2[0]/UNDERINFL_VS_SEVERITY1[0]"
   ]
  },
  {
   "cell_type": "code",
   "execution_count": 244,
   "metadata": {},
   "outputs": [
    {
     "data": {
      "text/plain": [
       "0.6407627271091924"
      ]
     },
     "execution_count": 244,
     "metadata": {},
     "output_type": "execute_result"
    }
   ],
   "source": [
    "UNDERINFL_VS_SEVERITY2[1]/UNDERINFL_VS_SEVERITY1[1]"
   ]
  },
  {
   "cell_type": "markdown",
   "metadata": {},
   "source": [
    "<h3> Being Under the Influece produces a probability increase of roughly 23% that a crash will be severe! </h3>"
   ]
  },
  {
   "cell_type": "code",
   "execution_count": 245,
   "metadata": {},
   "outputs": [
    {
     "data": {
      "text/plain": [
       "Clear                       75295\n",
       "Raining                     21969\n",
       "Overcast                    18969\n",
       "Snowing                       736\n",
       "Fog/Smog/Smoke                382\n",
       "Sleet/Hail/Freezing Rain       85\n",
       "Blowing Sand/Dirt              41\n",
       "Severe Crosswind               18\n",
       "Partly Cloudy                   2\n",
       "Name: WEATHER, dtype: int64"
      ]
     },
     "execution_count": 245,
     "metadata": {},
     "output_type": "execute_result"
    }
   ],
   "source": [
    "WEATHER_VS_SEVERITY1 = sev1['WEATHER'].value_counts().drop(labels=['Unknown','Other'])\n",
    "WEATHER_VS_SEVERITY2 = sev2['WEATHER'].value_counts().drop(labels=['Unknown', 'Other'])\n",
    "WEATHER_VS_SEVERITY1"
   ]
  },
  {
   "cell_type": "code",
   "execution_count": 246,
   "metadata": {},
   "outputs": [
    {
     "data": {
      "text/plain": [
       "Clear                       35840\n",
       "Raining                     11176\n",
       "Overcast                     8745\n",
       "Fog/Smog/Smoke                187\n",
       "Snowing                       171\n",
       "Sleet/Hail/Freezing Rain       28\n",
       "Blowing Sand/Dirt              15\n",
       "Severe Crosswind                7\n",
       "Partly Cloudy                   3\n",
       "Name: WEATHER, dtype: int64"
      ]
     },
     "execution_count": 246,
     "metadata": {},
     "output_type": "execute_result"
    }
   ],
   "source": [
    "WEATHER_VS_SEVERITY2"
   ]
  },
  {
   "cell_type": "code",
   "execution_count": 247,
   "metadata": {},
   "outputs": [
    {
     "data": {
      "image/png": "[encoded data removed]",
      "text/plain": [
       "<Figure size 1440x720 with 1 Axes>"
      ]
     },
     "metadata": {
      "needs_background": "light"
     },
     "output_type": "display_data"
    }
   ],
   "source": [
    "ind = np.arange(len(WEATHER_VS_SEVERITY1))  # the x locations for the groups\n",
    "width = 0.35  # the width of the bars\n",
    "\n",
    "fig, ax = plt.subplots(figsize=(20,10))\n",
    "rects1 = ax.bar(ind - width/2, WEATHER_VS_SEVERITY1, width,\n",
    "                color='SkyBlue', label='SEVERITY=1')\n",
    "rects2 = ax.bar(ind + width/2, WEATHER_VS_SEVERITY2, width,\n",
    "                color='IndianRed', label='SEVERITY=2')\n",
    "\n",
    "\n",
    "ax.set_ylabel('ACCIDENT VOLUME')\n",
    "ax.set_title('ACCIDENT VOLUME WITH RESPECT TO WEATHER CONDITIONS FOR SEVERITY=1 AND 2')\n",
    "ax.set_xticks(ind)\n",
    "ax.set_xticklabels(('CLEAR', 'RAINING', 'OVERCAST', 'SNOWING','Fog/Smog/Smoke', 'Sleet/Hail', 'Blowing Dirt', 'Severe Crosswind', 'Partly Cloudy'))\n",
    "ax.legend()\n",
    "\n",
    "for i in range(9):\n",
    "    annotate_value = str(int((WEATHER_VS_SEVERITY2[i]/WEATHER_VS_SEVERITY1[i])*100)) +\"%\"\n",
    "    ax.annotate(text=annotate_value,xy=(ind[i],40000))"
   ]
  },
  {
   "cell_type": "markdown",
   "metadata": {},
   "source": [
    "<h4> The percentages represent the ratio between severe and non-severe accidents. Not the percentage of severe accidents out of the total volume of accidents. You can see that infact clear skies have one of the highest ratio of severe accidents, while snowing actually has only 25%- this is surprising! But there is no surprise that Raining skies auses the greatest amount of severe crashes. We will ignorre partly cloudy's 150% as this section has too little data to have a proper representation.</h4>\n"
   ]
  },
  {
   "cell_type": "code",
   "execution_count": 248,
   "metadata": {},
   "outputs": [
    {
     "data": {
      "text/plain": [
       "Dry               84446\n",
       "Wet               31719\n",
       "Ice                 936\n",
       "Snow/Slush          837\n",
       "Standing Water       85\n",
       "Sand/Mud/Dirt        52\n",
       "Oil                  40\n",
       "Name: ROADCOND, dtype: int64"
      ]
     },
     "execution_count": 248,
     "metadata": {},
     "output_type": "execute_result"
    }
   ],
   "source": [
    "ROADCOND_VS_SEVERITY1 = sev1['ROADCOND'].value_counts().drop(labels=['Unknown','Other'])\n",
    "ROADCOND_VS_SEVERITY2 = sev2['ROADCOND'].value_counts().drop(labels=['Unknown', 'Other'])\n",
    "ROADCOND_VS_SEVERITY1"
   ]
  },
  {
   "cell_type": "code",
   "execution_count": 249,
   "metadata": {},
   "outputs": [
    {
     "data": {
      "text/plain": [
       "Dry               40064\n",
       "Wet               15755\n",
       "Ice                 273\n",
       "Snow/Slush          167\n",
       "Standing Water       30\n",
       "Oil                  24\n",
       "Sand/Mud/Dirt        23\n",
       "Name: ROADCOND, dtype: int64"
      ]
     },
     "execution_count": 249,
     "metadata": {},
     "output_type": "execute_result"
    }
   ],
   "source": [
    "ROADCOND_VS_SEVERITY2"
   ]
  },
  {
   "cell_type": "code",
   "execution_count": 250,
   "metadata": {},
   "outputs": [
    {
     "data": {
      "image/png": "[encoded data removed]",
      "text/plain": [
       "<Figure size 1440x720 with 1 Axes>"
      ]
     },
     "metadata": {
      "needs_background": "light"
     },
     "output_type": "display_data"
    }
   ],
   "source": [
    "ind = np.arange(len(ROADCOND_VS_SEVERITY1))  # the x locations for the groups\n",
    "width = 0.35  # the width of the bars\n",
    "\n",
    "fig, ax = plt.subplots(figsize=(20,10))\n",
    "rects1 = ax.bar(ind - width/2, ROADCOND_VS_SEVERITY1, width,\n",
    "                color='SkyBlue', label='SEVERITY=1')\n",
    "rects2 = ax.bar(ind + width/2, ROADCOND_VS_SEVERITY2, width,\n",
    "                color='IndianRed', label='SEVERITY=2')\n",
    "\n",
    "\n",
    "ax.set_ylabel('ACCIDENT VOLUME')\n",
    "ax.set_title('ACCIDENT VOLUME WITH RESPECT TO ROAD CONDITIONS FOR SEVERITY=1 AND 2')\n",
    "ax.set_xticks(ind)\n",
    "ax.set_xticklabels(('DRY', 'WET', 'ICE', 'SNOW/SLUSH','STANDING WATER', 'SAND/MUD/DIRT', 'OIL'))\n",
    "ax.legend()\n",
    "\n",
    "for i in range(7):\n",
    "    annotate_value = str(int((ROADCOND_VS_SEVERITY2[i]/ROADCOND_VS_SEVERITY1[i])*100)) +\"%\"\n",
    "    ax.annotate(text=annotate_value,xy=(ind[i],50000))"
   ]
  },
  {
   "cell_type": "markdown",
   "metadata": {},
   "source": [
    "<h3> No Surprises! </h3>"
   ]
  },
  {
   "cell_type": "code",
   "execution_count": 251,
   "metadata": {},
   "outputs": [
    {
     "data": {
      "text/plain": [
       "Daylight                    77593\n",
       "Dark - Street Lights On     34032\n",
       "Dusk                         3958\n",
       "Dawn                         1678\n",
       "Dark - No Street Lights      1203\n",
       "Dark - Street Lights Off      883\n",
       "Name: LIGHTCOND, dtype: int64"
      ]
     },
     "execution_count": 251,
     "metadata": {},
     "output_type": "execute_result"
    }
   ],
   "source": [
    "LIGHTCOND_VS_SEVERITY1 = sev1['LIGHTCOND'].value_counts().drop(labels=['Dark - Unknown Lighting', 'Other', 'Unknown'])\n",
    "LIGHTCOND_VS_SEVERITY2 = sev2['LIGHTCOND'].value_counts().drop(labels=['Dark - Unknown Lighting','Other', 'Unknown'])\n",
    "LIGHTCOND_VS_SEVERITY1"
   ]
  },
  {
   "cell_type": "code",
   "execution_count": 252,
   "metadata": {},
   "outputs": [
    {
     "data": {
      "text/plain": [
       "Daylight                    38544\n",
       "Dark - Street Lights On     14475\n",
       "Dusk                         1944\n",
       "Dawn                          824\n",
       "Dark - No Street Lights       334\n",
       "Dark - Street Lights Off      316\n",
       "Name: LIGHTCOND, dtype: int64"
      ]
     },
     "execution_count": 252,
     "metadata": {},
     "output_type": "execute_result"
    }
   ],
   "source": [
    "LIGHTCOND_VS_SEVERITY2"
   ]
  },
  {
   "cell_type": "code",
   "execution_count": 253,
   "metadata": {},
   "outputs": [
    {
     "data": {
      "image/png": "[encoded data removed]",
      "text/plain": [
       "<Figure size 1440x720 with 1 Axes>"
      ]
     },
     "metadata": {
      "needs_background": "light"
     },
     "output_type": "display_data"
    }
   ],
   "source": [
    "ind = np.arange(len(LIGHTCOND_VS_SEVERITY1))  # the x locations for the groups\n",
    "width = 0.35  # the width of the bars\n",
    "\n",
    "fig, ax = plt.subplots(figsize=(20,10))\n",
    "rects1 = ax.bar(ind - width/2, LIGHTCOND_VS_SEVERITY1, width,\n",
    "                color='SkyBlue', label='SEVERITY=1')\n",
    "rects2 = ax.bar(ind + width/2, LIGHTCOND_VS_SEVERITY2, width,\n",
    "                color='IndianRed', label='SEVERITY=2')\n",
    "\n",
    "\n",
    "ax.set_ylabel('ACCIDENT VOLUME')\n",
    "ax.set_title('ACCIDENT VOLUME WITH RESPECT TO LIGHT CONDITIONS FOR SEVERITY=1 AND 2')\n",
    "ax.set_xticks(ind)\n",
    "ax.set_xticklabels(('DAYLIGHT', 'STREETLIGHT', 'DUSK', 'DAWN','DARK(NO ST LIGHT)', 'DARK(ST LIGHT OFF)'))\n",
    "ax.legend()\n",
    "\n",
    "for i in range(6):\n",
    "    annotate_value = str(int((LIGHTCOND_VS_SEVERITY2[i]/LIGHTCOND_VS_SEVERITY1[i])*100)) +\"%\"\n",
    "    ax.annotate(text=annotate_value,xy=(ind[i],50000))"
   ]
  },
  {
   "cell_type": "markdown",
   "metadata": {},
   "source": [
    "<h3> Dusk and Dawn and Daylight have the highest ratio of severe crashes </h3>"
   ]
  },
  {
   "cell_type": "code",
   "execution_count": 254,
   "metadata": {},
   "outputs": [
    {
     "data": {
      "text/plain": [
       "0    130683\n",
       "1      5802\n",
       "Name: SPEEDING, dtype: int64"
      ]
     },
     "execution_count": 254,
     "metadata": {},
     "output_type": "execute_result"
    }
   ],
   "source": [
    "SPEEDING_VS_SEVERITY1 = sev1['SPEEDING'].value_counts()\n",
    "SPEEDING_VS_SEVERITY2 = sev2['SPEEDING'].value_counts()\n",
    "SPEEDING_VS_SEVERITY1"
   ]
  },
  {
   "cell_type": "code",
   "execution_count": 255,
   "metadata": {},
   "outputs": [
    {
     "data": {
      "text/plain": [
       "0    54657\n",
       "1     3531\n",
       "Name: SPEEDING, dtype: int64"
      ]
     },
     "execution_count": 255,
     "metadata": {},
     "output_type": "execute_result"
    }
   ],
   "source": [
    "SPEEDING_VS_SEVERITY2"
   ]
  },
  {
   "cell_type": "code",
   "execution_count": 256,
   "metadata": {},
   "outputs": [
    {
     "data": {
      "image/png": "[encoded data removed]",
      "text/plain": [
       "<Figure size 1440x720 with 1 Axes>"
      ]
     },
     "metadata": {
      "needs_background": "light"
     },
     "output_type": "display_data"
    }
   ],
   "source": [
    "ind = np.arange(len(SPEEDING_VS_SEVERITY1))  # the x locations for the groups\n",
    "width = 0.35  # the width of the bars\n",
    "\n",
    "fig, ax = plt.subplots(figsize=(20,10))\n",
    "rects1 = ax.bar(ind - width/2, SPEEDING_VS_SEVERITY1, width,\n",
    "                color='SkyBlue', label='SEVERITY=1')\n",
    "rects2 = ax.bar(ind + width/2, SPEEDING_VS_SEVERITY2, width,\n",
    "                color='IndianRed', label='SEVERITY=2')\n",
    "\n",
    "\n",
    "ax.set_ylabel('ACCIDENT VOLUME')\n",
    "ax.set_title('ACCIDENT VOLUME FOR SPEEDING AND NOT-SPEEDING FOR SEVERITY=1 AND 2')\n",
    "ax.set_xticks(ind)\n",
    "ax.set_xticklabels(('NOT-SPEEDING', 'SPEEDING'))\n",
    "ax.legend()\n",
    "\n",
    "for i in range(2):\n",
    "    annotate_value = str(int((SPEEDING_VS_SEVERITY2[i]/SPEEDING_VS_SEVERITY1[i])*100)) +\"%\"\n",
    "    ax.annotate(text=annotate_value,xy=(ind[i],75000))"
   ]
  },
  {
   "cell_type": "markdown",
   "metadata": {},
   "source": [
    "<h3> Crashes which take place while speeding are much more likely to result in severe injury </h3>"
   ]
  },
  {
   "cell_type": "code",
   "execution_count": 257,
   "metadata": {},
   "outputs": [
    {
     "data": {
      "text/plain": [
       "0    129717\n",
       "1      6768\n",
       "Name: HITPARKEDCAR, dtype: int64"
      ]
     },
     "execution_count": 257,
     "metadata": {},
     "output_type": "execute_result"
    }
   ],
   "source": [
    "HITPARKEDCAR_VS_SEVERITY1 = sev1['HITPARKEDCAR'].value_counts()\n",
    "HITPARKEDCAR_VS_SEVERITY2 = sev2['HITPARKEDCAR'].value_counts()\n",
    "HITPARKEDCAR_VS_SEVERITY1"
   ]
  },
  {
   "cell_type": "code",
   "execution_count": 258,
   "metadata": {},
   "outputs": [
    {
     "data": {
      "text/plain": [
       "0    57740\n",
       "1      448\n",
       "Name: HITPARKEDCAR, dtype: int64"
      ]
     },
     "execution_count": 258,
     "metadata": {},
     "output_type": "execute_result"
    }
   ],
   "source": [
    "HITPARKEDCAR_VS_SEVERITY2"
   ]
  },
  {
   "cell_type": "code",
   "execution_count": 259,
   "metadata": {},
   "outputs": [
    {
     "data": {
      "image/png": "[encoded data removed]",
      "text/plain": [
       "<Figure size 1440x720 with 1 Axes>"
      ]
     },
     "metadata": {
      "needs_background": "light"
     },
     "output_type": "display_data"
    }
   ],
   "source": [
    "ind = np.arange(len(HITPARKEDCAR_VS_SEVERITY1))  # the x locations for the groups\n",
    "width = 0.35  # the width of the bars\n",
    "\n",
    "fig, ax = plt.subplots(figsize=(20,10))\n",
    "rects1 = ax.bar(ind - width/2, HITPARKEDCAR_VS_SEVERITY1, width,\n",
    "                color='SkyBlue', label='SEVERITY=1')\n",
    "rects2 = ax.bar(ind + width/2, HITPARKEDCAR_VS_SEVERITY2, width,\n",
    "                color='IndianRed', label='SEVERITY=2')\n",
    "\n",
    "\n",
    "ax.set_ylabel('ACCIDENT VOLUME')\n",
    "ax.set_title('ACCIDENT VOLUME FOR HITTING A PARKED CAR VS A CAR IN MOTION FOR SEVERITY=1 AND 2')\n",
    "ax.set_xticks(ind)\n",
    "ax.set_xticklabels(('NOT-PARKED', 'PARKED'))\n",
    "ax.legend()\n",
    "\n",
    "for i in range(2):\n",
    "    annotate_value = str(int((HITPARKEDCAR_VS_SEVERITY2[i]/HITPARKEDCAR_VS_SEVERITY1[i])*100)) +\"%\"\n",
    "    ax.annotate(text=annotate_value,xy=(ind[i],75000))"
   ]
  },
  {
   "cell_type": "markdown",
   "metadata": {},
   "source": [
    "Clearly hitting a parked car has a much lower probability for an accident to be severe."
   ]
  },
  {
   "cell_type": "code",
   "execution_count": null,
   "metadata": {},
   "outputs": [],
   "source": []
  },
  {
   "cell_type": "markdown",
   "metadata": {},
   "source": [
    "<h2> Methodology </h2>"
   ]
  },
  {
   "cell_type": "markdown",
   "metadata": {},
   "source": [
    "Now we will construct a model which will take the factors we have analyzed into it to create a predictive model to predict the severity of a car crash from the input. We will first need to process the data abit in order to make it right for the model to accept and to create a split between training data and test data. Then we will be able to evaluate the data to make sure that we have highly accurate model that we can then deploy and work with to make Seattle a safer city. \n",
    "\n",
    "We will be using a Classification machine learning model, as we have 2 categories: 1- non-severe  2-Severe. This means that we want a model which will predict whether an accident is severe or non severe, so a classification model is what we are looking for. \n",
    "\n",
    "Also we need to keep in mind that we are dealing with almost 200,000 data points, and quite a few columns of data, thus, with such huge amounts of data we will need a model which can run relatively fast, as else, it will takre a long time computing and this will be rather annoying for anyone working with the model. Furrthermore, stakeholders who will be using this model may not always want to input every atribute of the independent variable (and in this case, wee will want them to put in a 0, or false value for the component that they are not calculating for), so thus this model needs to be clearly split in a way which doesn't mitigate the values based on a lack of certain test components. \n",
    "For these reason, we will choose a Support Vector Machine Model, as it fits exactly the description of what we need."
   ]
  },
  {
   "cell_type": "code",
   "execution_count": null,
   "metadata": {},
   "outputs": [],
   "source": []
  },
  {
   "cell_type": "markdown",
   "metadata": {},
   "source": [
    "<h2> Model Building: </h2>"
   ]
  },
  {
   "cell_type": "markdown",
   "metadata": {},
   "source": [
    "A little bit of data processing:"
   ]
  },
  {
   "cell_type": "code",
   "execution_count": 260,
   "metadata": {},
   "outputs": [],
   "source": [
    "from sklearn import preprocessing"
   ]
  },
  {
   "cell_type": "code",
   "execution_count": 261,
   "metadata": {},
   "outputs": [],
   "source": [
    "from sklearn.model_selection import train_test_split"
   ]
  },
  {
   "cell_type": "code",
   "execution_count": 262,
   "metadata": {},
   "outputs": [],
   "source": [
    "X= df[['ADDRTYPE','VEHCOUNT','INATTENTIONIND','UNDERINFL','WEATHER','ROADCOND','LIGHTCOND','SPEEDING','HITPARKEDCAR']]"
   ]
  },
  {
   "cell_type": "code",
   "execution_count": 263,
   "metadata": {},
   "outputs": [],
   "source": [
    "X= pd.concat([X,pd.get_dummies(df['ADDRTYPE'])], axis=1)\n",
    "X= pd.concat([X,pd.get_dummies(df['WEATHER'])], axis=1)\n",
    "X= pd.concat([X,pd.get_dummies(df['ROADCOND'])], axis=1)\n",
    "X= pd.concat([X,pd.get_dummies(df['LIGHTCOND'])], axis=1)\n",
    "X.drop(labels=['ADDRTYPE', 'WEATHER', 'ROADCOND', 'LIGHTCOND'], axis=1, inplace=True)"
   ]
  },
  {
   "cell_type": "code",
   "execution_count": 264,
   "metadata": {},
   "outputs": [],
   "source": [
    "X.drop(labels=['Dark - Unknown Lighting', 'Other', 'Unknown'], axis=1, inplace=True)"
   ]
  },
  {
   "cell_type": "code",
   "execution_count": null,
   "metadata": {},
   "outputs": [],
   "source": []
  },
  {
   "cell_type": "code",
   "execution_count": 265,
   "metadata": {},
   "outputs": [],
   "source": [
    "X['INATTENTIONIND']= X['INATTENTIONIND'].astype(int)\n",
    "X['UNDERINFL']= X['UNDERINFL'].astype(int)\n",
    "X['SPEEDING']= X['SPEEDING'].astype(int)\n",
    "X['HITPARKEDCAR']= X['HITPARKEDCAR'].astype(int)"
   ]
  },
  {
   "cell_type": "code",
   "execution_count": 266,
   "metadata": {},
   "outputs": [
    {
     "data": {
      "text/html": [
       "<div>\n",
       "<style scoped>\n",
       "    .dataframe tbody tr th:only-of-type {\n",
       "        vertical-align: middle;\n",
       "    }\n",
       "\n",
       "    .dataframe tbody tr th {\n",
       "        vertical-align: top;\n",
       "    }\n",
       "\n",
       "    .dataframe thead th {\n",
       "        text-align: right;\n",
       "    }\n",
       "</style>\n",
       "<table border=\"1\" class=\"dataframe\">\n",
       "  <thead>\n",
       "    <tr style=\"text-align: right;\">\n",
       "      <th></th>\n",
       "      <th>VEHCOUNT</th>\n",
       "      <th>INATTENTIONIND</th>\n",
       "      <th>UNDERINFL</th>\n",
       "      <th>SPEEDING</th>\n",
       "      <th>HITPARKEDCAR</th>\n",
       "      <th>Alley</th>\n",
       "      <th>Block</th>\n",
       "      <th>Intersection</th>\n",
       "      <th>Blowing Sand/Dirt</th>\n",
       "      <th>Clear</th>\n",
       "      <th>...</th>\n",
       "      <th>Sand/Mud/Dirt</th>\n",
       "      <th>Snow/Slush</th>\n",
       "      <th>Standing Water</th>\n",
       "      <th>Wet</th>\n",
       "      <th>Dark - No Street Lights</th>\n",
       "      <th>Dark - Street Lights Off</th>\n",
       "      <th>Dark - Street Lights On</th>\n",
       "      <th>Dawn</th>\n",
       "      <th>Daylight</th>\n",
       "      <th>Dusk</th>\n",
       "    </tr>\n",
       "    <tr>\n",
       "      <th>OBJECTID</th>\n",
       "      <th></th>\n",
       "      <th></th>\n",
       "      <th></th>\n",
       "      <th></th>\n",
       "      <th></th>\n",
       "      <th></th>\n",
       "      <th></th>\n",
       "      <th></th>\n",
       "      <th></th>\n",
       "      <th></th>\n",
       "      <th></th>\n",
       "      <th></th>\n",
       "      <th></th>\n",
       "      <th></th>\n",
       "      <th></th>\n",
       "      <th></th>\n",
       "      <th></th>\n",
       "      <th></th>\n",
       "      <th></th>\n",
       "      <th></th>\n",
       "      <th></th>\n",
       "    </tr>\n",
       "  </thead>\n",
       "  <tbody>\n",
       "    <tr>\n",
       "      <th>1</th>\n",
       "      <td>2</td>\n",
       "      <td>0</td>\n",
       "      <td>0</td>\n",
       "      <td>0</td>\n",
       "      <td>0</td>\n",
       "      <td>0</td>\n",
       "      <td>0</td>\n",
       "      <td>1</td>\n",
       "      <td>0</td>\n",
       "      <td>0</td>\n",
       "      <td>...</td>\n",
       "      <td>0</td>\n",
       "      <td>0</td>\n",
       "      <td>0</td>\n",
       "      <td>1</td>\n",
       "      <td>0</td>\n",
       "      <td>0</td>\n",
       "      <td>0</td>\n",
       "      <td>0</td>\n",
       "      <td>1</td>\n",
       "      <td>0</td>\n",
       "    </tr>\n",
       "    <tr>\n",
       "      <th>2</th>\n",
       "      <td>2</td>\n",
       "      <td>0</td>\n",
       "      <td>0</td>\n",
       "      <td>0</td>\n",
       "      <td>0</td>\n",
       "      <td>0</td>\n",
       "      <td>1</td>\n",
       "      <td>0</td>\n",
       "      <td>0</td>\n",
       "      <td>0</td>\n",
       "      <td>...</td>\n",
       "      <td>0</td>\n",
       "      <td>0</td>\n",
       "      <td>0</td>\n",
       "      <td>1</td>\n",
       "      <td>0</td>\n",
       "      <td>0</td>\n",
       "      <td>1</td>\n",
       "      <td>0</td>\n",
       "      <td>0</td>\n",
       "      <td>0</td>\n",
       "    </tr>\n",
       "    <tr>\n",
       "      <th>3</th>\n",
       "      <td>3</td>\n",
       "      <td>0</td>\n",
       "      <td>0</td>\n",
       "      <td>0</td>\n",
       "      <td>0</td>\n",
       "      <td>0</td>\n",
       "      <td>1</td>\n",
       "      <td>0</td>\n",
       "      <td>0</td>\n",
       "      <td>0</td>\n",
       "      <td>...</td>\n",
       "      <td>0</td>\n",
       "      <td>0</td>\n",
       "      <td>0</td>\n",
       "      <td>0</td>\n",
       "      <td>0</td>\n",
       "      <td>0</td>\n",
       "      <td>0</td>\n",
       "      <td>0</td>\n",
       "      <td>1</td>\n",
       "      <td>0</td>\n",
       "    </tr>\n",
       "    <tr>\n",
       "      <th>4</th>\n",
       "      <td>3</td>\n",
       "      <td>0</td>\n",
       "      <td>0</td>\n",
       "      <td>0</td>\n",
       "      <td>0</td>\n",
       "      <td>0</td>\n",
       "      <td>1</td>\n",
       "      <td>0</td>\n",
       "      <td>0</td>\n",
       "      <td>1</td>\n",
       "      <td>...</td>\n",
       "      <td>0</td>\n",
       "      <td>0</td>\n",
       "      <td>0</td>\n",
       "      <td>0</td>\n",
       "      <td>0</td>\n",
       "      <td>0</td>\n",
       "      <td>0</td>\n",
       "      <td>0</td>\n",
       "      <td>1</td>\n",
       "      <td>0</td>\n",
       "    </tr>\n",
       "    <tr>\n",
       "      <th>5</th>\n",
       "      <td>2</td>\n",
       "      <td>0</td>\n",
       "      <td>0</td>\n",
       "      <td>0</td>\n",
       "      <td>0</td>\n",
       "      <td>0</td>\n",
       "      <td>0</td>\n",
       "      <td>1</td>\n",
       "      <td>0</td>\n",
       "      <td>0</td>\n",
       "      <td>...</td>\n",
       "      <td>0</td>\n",
       "      <td>0</td>\n",
       "      <td>0</td>\n",
       "      <td>1</td>\n",
       "      <td>0</td>\n",
       "      <td>0</td>\n",
       "      <td>0</td>\n",
       "      <td>0</td>\n",
       "      <td>1</td>\n",
       "      <td>0</td>\n",
       "    </tr>\n",
       "  </tbody>\n",
       "</table>\n",
       "<p>5 rows × 30 columns</p>\n",
       "</div>"
      ],
      "text/plain": [
       "          VEHCOUNT  INATTENTIONIND  UNDERINFL  SPEEDING  HITPARKEDCAR  Alley  \\\n",
       "OBJECTID                                                                       \n",
       "1                2               0          0         0             0      0   \n",
       "2                2               0          0         0             0      0   \n",
       "3                3               0          0         0             0      0   \n",
       "4                3               0          0         0             0      0   \n",
       "5                2               0          0         0             0      0   \n",
       "\n",
       "          Block  Intersection  Blowing Sand/Dirt  Clear  ...  Sand/Mud/Dirt  \\\n",
       "OBJECTID                                                 ...                  \n",
       "1             0             1                  0      0  ...              0   \n",
       "2             1             0                  0      0  ...              0   \n",
       "3             1             0                  0      0  ...              0   \n",
       "4             1             0                  0      1  ...              0   \n",
       "5             0             1                  0      0  ...              0   \n",
       "\n",
       "          Snow/Slush  Standing Water  Wet  Dark - No Street Lights  \\\n",
       "OBJECTID                                                             \n",
       "1                  0               0    1                        0   \n",
       "2                  0               0    1                        0   \n",
       "3                  0               0    0                        0   \n",
       "4                  0               0    0                        0   \n",
       "5                  0               0    1                        0   \n",
       "\n",
       "          Dark - Street Lights Off  Dark - Street Lights On  Dawn  Daylight  \\\n",
       "OBJECTID                                                                      \n",
       "1                                0                        0     0         1   \n",
       "2                                0                        1     0         0   \n",
       "3                                0                        0     0         1   \n",
       "4                                0                        0     0         1   \n",
       "5                                0                        0     0         1   \n",
       "\n",
       "          Dusk  \n",
       "OBJECTID        \n",
       "1            0  \n",
       "2            0  \n",
       "3            0  \n",
       "4            0  \n",
       "5            0  \n",
       "\n",
       "[5 rows x 30 columns]"
      ]
     },
     "execution_count": 266,
     "metadata": {},
     "output_type": "execute_result"
    }
   ],
   "source": [
    "X.head()"
   ]
  },
  {
   "cell_type": "code",
   "execution_count": 267,
   "metadata": {},
   "outputs": [
    {
     "name": "stderr",
     "output_type": "stream",
     "text": [
      "/home/jupyterlab/conda/envs/python/lib/python3.6/site-packages/sklearn/preprocessing/data.py:625: DataConversionWarning: Data with input dtype uint8, int64 were all converted to float64 by StandardScaler.\n",
      "  return self.partial_fit(X, y)\n",
      "/home/jupyterlab/conda/envs/python/lib/python3.6/site-packages/ipykernel_launcher.py:1: DataConversionWarning: Data with input dtype uint8, int64 were all converted to float64 by StandardScaler.\n",
      "  \"\"\"Entry point for launching an IPython kernel.\n"
     ]
    }
   ],
   "source": [
    "X= preprocessing.StandardScaler().fit(X).transform(X)"
   ]
  },
  {
   "cell_type": "code",
   "execution_count": 268,
   "metadata": {},
   "outputs": [],
   "source": [
    "Y= df['SEVERITYCODE']"
   ]
  },
  {
   "cell_type": "code",
   "execution_count": 269,
   "metadata": {},
   "outputs": [],
   "source": [
    "#data reduction\n",
    "X_TRAIN, X_DISCARD, Y_TRAIN, Y_DISCARD= train_test_split(X,Y, test_size=0.8, random_state=100)"
   ]
  },
  {
   "cell_type": "code",
   "execution_count": 270,
   "metadata": {},
   "outputs": [],
   "source": [
    "x_train, x_test, y_train, y_test= train_test_split(X_TRAIN, Y_TRAIN, test_size=0.5, random_state= 50) "
   ]
  },
  {
   "cell_type": "markdown",
   "metadata": {},
   "source": [
    "<h2> This will be a Support vector Machine Model </h2>"
   ]
  },
  {
   "cell_type": "code",
   "execution_count": 271,
   "metadata": {},
   "outputs": [],
   "source": [
    "from sklearn import svm"
   ]
  },
  {
   "cell_type": "code",
   "execution_count": 272,
   "metadata": {},
   "outputs": [],
   "source": [
    "from sklearn import metrics"
   ]
  },
  {
   "cell_type": "code",
   "execution_count": 273,
   "metadata": {},
   "outputs": [],
   "source": [
    "from sklearn.metrics import jaccard_similarity_score, f1_score"
   ]
  },
  {
   "cell_type": "markdown",
   "metadata": {},
   "source": [
    "<h1> The Model: </h1>"
   ]
  },
  {
   "cell_type": "code",
   "execution_count": 274,
   "metadata": {},
   "outputs": [],
   "source": [
    "SMachine = svm.SVC(kernel='rbf')"
   ]
  },
  {
   "cell_type": "code",
   "execution_count": 275,
   "metadata": {},
   "outputs": [
    {
     "name": "stderr",
     "output_type": "stream",
     "text": [
      "/home/jupyterlab/conda/envs/python/lib/python3.6/site-packages/sklearn/svm/base.py:196: FutureWarning: The default value of gamma will change from 'auto' to 'scale' in version 0.22 to account better for unscaled features. Set gamma explicitly to 'auto' or 'scale' to avoid this warning.\n",
      "  \"avoid this warning.\", FutureWarning)\n"
     ]
    },
    {
     "data": {
      "text/plain": [
       "SVC(C=1.0, cache_size=200, class_weight=None, coef0=0.0,\n",
       "  decision_function_shape='ovr', degree=3, gamma='auto_deprecated',\n",
       "  kernel='rbf', max_iter=-1, probability=False, random_state=None,\n",
       "  shrinking=True, tol=0.001, verbose=False)"
      ]
     },
     "execution_count": 275,
     "metadata": {},
     "output_type": "execute_result"
    }
   ],
   "source": [
    "SMachine.fit(x_train, y_train)"
   ]
  },
  {
   "cell_type": "markdown",
   "metadata": {},
   "source": [
    "<h2> Evaluation: </h2>"
   ]
  },
  {
   "cell_type": "markdown",
   "metadata": {},
   "source": [
    "We will use The Jaccard similarity Score and the f1 score to assess how well the model predicted whether an accident was severe or not. The evaluation types use the models' predictions and compares them to their real values. We have a certain amount of data we allocated only for testing and evaluating and is completely random and real data, which was separated from the data provided by the Seattle Police Department before the model was actually built."
   ]
  },
  {
   "cell_type": "code",
   "execution_count": 276,
   "metadata": {},
   "outputs": [],
   "source": [
    "svmhat = SMachine.predict(x_test)"
   ]
  },
  {
   "cell_type": "code",
   "execution_count": 277,
   "metadata": {},
   "outputs": [],
   "source": [
    "from sklearn.metrics import jaccard_similarity_score\n",
    "from sklearn.metrics import f1_score"
   ]
  },
  {
   "cell_type": "code",
   "execution_count": 278,
   "metadata": {},
   "outputs": [],
   "source": [
    "JS= jaccard_similarity_score(y_test, svmhat)\n",
    "F1_score = f1_score(y_test, svmhat, average='weighted')"
   ]
  },
  {
   "cell_type": "code",
   "execution_count": 279,
   "metadata": {},
   "outputs": [
    {
     "name": "stdout",
     "output_type": "stream",
     "text": [
      "Jaccards Score is: 0.7271279601376689\n",
      "f1 score is:  0.6661369923323646\n"
     ]
    }
   ],
   "source": [
    "print(\"Jaccards Score is:\",JS)\n",
    "print(\"f1 score is: \", F1_score)"
   ]
  },
  {
   "cell_type": "markdown",
   "metadata": {},
   "source": [
    "<h2> Lets also run a decisions Tree model for comparison: </h2>"
   ]
  },
  {
   "cell_type": "code",
   "execution_count": 282,
   "metadata": {},
   "outputs": [],
   "source": [
    "from sklearn.tree import DecisionTreeClassifier"
   ]
  },
  {
   "cell_type": "code",
   "execution_count": 283,
   "metadata": {},
   "outputs": [],
   "source": [
    "Tree = DecisionTreeClassifier(criterion='entropy')"
   ]
  },
  {
   "cell_type": "code",
   "execution_count": 284,
   "metadata": {},
   "outputs": [
    {
     "data": {
      "text/plain": [
       "DecisionTreeClassifier(class_weight=None, criterion='entropy', max_depth=None,\n",
       "            max_features=None, max_leaf_nodes=None,\n",
       "            min_impurity_decrease=0.0, min_impurity_split=None,\n",
       "            min_samples_leaf=1, min_samples_split=2,\n",
       "            min_weight_fraction_leaf=0.0, presort=False, random_state=None,\n",
       "            splitter='best')"
      ]
     },
     "execution_count": 284,
     "metadata": {},
     "output_type": "execute_result"
    }
   ],
   "source": [
    "Tree.fit(x_train, y_train)"
   ]
  },
  {
   "cell_type": "code",
   "execution_count": 285,
   "metadata": {},
   "outputs": [],
   "source": [
    "predTree= Tree.predict(x_test)"
   ]
  },
  {
   "cell_type": "code",
   "execution_count": 286,
   "metadata": {},
   "outputs": [],
   "source": [
    "F1_Tree= f1_score(y_test, predTree, average='weighted')\n",
    "JS_Tree= jaccard_similarity_score(y_test, predTree)"
   ]
  },
  {
   "cell_type": "code",
   "execution_count": 287,
   "metadata": {},
   "outputs": [
    {
     "name": "stdout",
     "output_type": "stream",
     "text": [
      "f1 score is:  0.6720137537024747\n",
      "Jaccard Score is:  0.7211691580623619\n"
     ]
    }
   ],
   "source": [
    "print('f1 score is: ', F1_Tree)\n",
    "print('Jaccard Score is: ', JS_Tree)"
   ]
  },
  {
   "cell_type": "markdown",
   "metadata": {},
   "source": [
    "<h2> Logistic Regression Model: </h2>"
   ]
  },
  {
   "cell_type": "code",
   "execution_count": 289,
   "metadata": {},
   "outputs": [],
   "source": [
    "from sklearn.linear_model import LogisticRegression"
   ]
  },
  {
   "cell_type": "code",
   "execution_count": 290,
   "metadata": {},
   "outputs": [
    {
     "data": {
      "text/plain": [
       "LogisticRegression(C=0.01, class_weight=None, dual=False, fit_intercept=True,\n",
       "          intercept_scaling=1, max_iter=100, multi_class='warn',\n",
       "          n_jobs=None, penalty='l2', random_state=None, solver='liblinear',\n",
       "          tol=0.0001, verbose=0, warm_start=False)"
      ]
     },
     "execution_count": 290,
     "metadata": {},
     "output_type": "execute_result"
    }
   ],
   "source": [
    "LRModel = LogisticRegression(C=0.01, solver='liblinear')\n",
    "LRModel.fit(x_train, y_train)"
   ]
  },
  {
   "cell_type": "code",
   "execution_count": 291,
   "metadata": {},
   "outputs": [],
   "source": [
    "LRhat= LRModel.predict(x_test)"
   ]
  },
  {
   "cell_type": "code",
   "execution_count": 293,
   "metadata": {},
   "outputs": [],
   "source": [
    "JS_LOG = jaccard_similarity_score(LRhat, y_test)\n",
    "F1_LOG = f1_score(y_test, LRhat, average='weighted')"
   ]
  },
  {
   "cell_type": "code",
   "execution_count": 295,
   "metadata": {},
   "outputs": [
    {
     "name": "stdout",
     "output_type": "stream",
     "text": [
      "JS is:  0.7128987517337032\n",
      "F1 score is:  0.6402708523705322\n"
     ]
    }
   ],
   "source": [
    "print(\"JS is: \", JS_LOG)\n",
    "print(\"F1 score is: \", F1_LOG)"
   ]
  },
  {
   "cell_type": "markdown",
   "metadata": {},
   "source": [
    "<h3> So The Decisions Tree and SVM have almost identical results, however logistic Regression model is slightly behind. KNN model was excluded as it takes too long to produce with such large amounts of data. </h3>"
   ]
  },
  {
   "cell_type": "markdown",
   "metadata": {},
   "source": [
    "<h1> Results and Discussion: </h1>"
   ]
  },
  {
   "cell_type": "markdown",
   "metadata": {},
   "source": [
    "There are quite a few factors which can help us determine whther a car was in a severe car crash or not. Lets look at the figures:\n",
    "1- We found that car crashes which involve a parked car are highly unlikely to produce severe accidents. \n",
    "2.Speeding produces a significant increase in likelihood of an accident being severe.\n",
    "3. Being under the influence also heavily increases the likelihood of having a severe accident.\n",
    "4.When attention isnt being paid the liklihood of severity also increases. \n",
    "5.Accidents in intersections have a very high likelihood of being severe, while accidents in alleys have a very low likelihood. The most accidents happen on blocks, which have a moderate likelihood of having a severe accident.\n",
    "6. Raining weather has the worst probability for severity of accidents, and clear, overcast and foggy conditions are close behind- they all produce roughly a 1/3 probability that an accident will be severe. All other conditions are far lower.\n",
    "7.Wet then dry road conditions produce the 2 highest probability of severe accidents, once again a roughly 1/3 chance of an accident to be severe, while all other road conditions are much lower.\n",
    "8. With regards to light conditions, it turns out that dark conditions are actually better in respect to a reduction in severe crashes- when there were no street lights at all we had the lowest proportion of accidents being severe, then when the street lights were turned off. More on, Dusk, Dawn and Daylight are all tied in first place for producing the highest likelihood of an accident to be severe and then streetlights is close behind in second place- in these conditions an accident has roughly a 1/3 chance of being severe. Perhaps if Seattle was a darker city, it would be safer."
   ]
  },
  {
   "cell_type": "markdown",
   "metadata": {},
   "source": [
    "<h1> Conclusion: </h1>"
   ]
  },
  {
   "cell_type": "markdown",
   "metadata": {},
   "source": [
    "The purpose of this project is to 1.Understand the factors which produce a higher likelihood of a crash being severe and 2. to build a model which can predict the sverity of a crash based on factors of input. We have been able to successfully determine conditions which lead to a higher likelihood of a severe crash and build a model which is ready to deploy to estimate the severity of a crash giving a litany of conditions. The model doesn't have the best accuracy to be honest, however due to the nature of a car crash being based on so many factors and involving alot of luck, this can be expected. However, the model's accuracy is still high enough to help increase safety substantially. There were also some surprises found in the data analysis, which are a good thing, as they differ from what we might have expected prior to the analysis, such as the fact that darker light conditions actually produce a lower probability of an accident being severe. These are valuable insights for constructing safer cities. More on, the model can be deployed for scenario evaluation, to determine which parts of a city or design of a city will produce severe accidents in differnt conditions. The Log loss model, could even be deployed to predict the probability of having a sever crash- these models could be very useful for building safer roads in the future and producing better drivers and allowing stakeholders to find conditions and points of danger so they can be more aware and thus pay more attention to these points of interest."
   ]
  },
  {
   "cell_type": "code",
   "execution_count": null,
   "metadata": {},
   "outputs": [],
   "source": []
  }
 ],
 "metadata": {
  "kernelspec": {
   "display_name": "Python",
   "language": "python",
   "name": "conda-env-python-py"
  },
  "language_info": {
   "codemirror_mode": {
    "name": "ipython",
    "version": 3
   },
   "file_extension": ".py",
   "mimetype": "text/x-python",
   "name": "python",
   "nbconvert_exporter": "python",
   "pygments_lexer": "ipython3",
   "version": "3.6.11"
  }
 },
 "nbformat": 4,
 "nbformat_minor": 4
}
